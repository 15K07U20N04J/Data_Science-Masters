{
 "cells": [
  {
   "cell_type": "code",
   "execution_count": 1,
   "id": "ce122669-fc88-47b1-b36d-ddc252e8c420",
   "metadata": {},
   "outputs": [
    {
     "data": {
      "text/plain": [
       "list"
      ]
     },
     "execution_count": 1,
     "metadata": {},
     "output_type": "execute_result"
    }
   ],
   "source": [
    "\"\"\"\n",
    "Q1. Create one variable containing following type of data:\n",
    "(i) string\n",
    "(ii) list\n",
    "(iii) float\n",
    "(iv) tuple\n",
    "\n",
    "Ans :-\n",
    "\"\"\"\n",
    "\n",
    "l = [ \"String\", [ 1, 2, 3, \"Nevil\", 44.4 ], 55.55, (\"Nevil\", \"Rohit\") ] \n",
    "type (l)"
   ]
  },
  {
   "cell_type": "code",
   "execution_count": null,
   "id": "b883456b-8102-42e0-a5ab-bcef1629526b",
   "metadata": {},
   "outputs": [],
   "source": [
    "\"\"\"\n",
    "Q2. Given are some following variables containing data:\n",
    "(i) var1 = ‘ ‘\n",
    "(ii) var2 = ‘[ DS , ML , Python]’\n",
    "(iii) var3 = [ ‘DS’ , ’ML’ , ‘Python’ ]\n",
    "(iv) var4 = 1.\n",
    "\n",
    "What will be the data type of the above given variable.\n",
    "\n",
    "Ans :-\n",
    "\n",
    "(i) String\n",
    "(ii) String\n",
    "(iii) List\n",
    "(iv) int\n",
    "\"\"\""
   ]
  },
  {
   "cell_type": "code",
   "execution_count": null,
   "id": "aafca5f0-c5f9-40f4-a1e7-0fae0ef81ded",
   "metadata": {},
   "outputs": [],
   "source": [
    "\"\"\"\n",
    "Q3. Explain the use of the following operators using an example:\n",
    "(i) /\n",
    "(ii) %\n",
    "(iii) //\n",
    "(iv) **\n",
    "\n",
    "Ans :-\n",
    "\n",
    "(i) It is a division operator. It is a type of arithematic operator which performs division operation.\n",
    "(ii) It is a modulo operator. It is a type of arithematic operator which gives remainder as a result.\n",
    "(iii) It is a floor divison operator. It performs divison on twoo numbers and gives us the nearest rounded off result.\n",
    "(iv) It is a power operator. Suppose there are two numbers a nd b. Then a**b will give us a power b.\n",
    "\"\"\""
   ]
  },
  {
   "cell_type": "code",
   "execution_count": 2,
   "id": "4c2a8b7a-3ec4-4532-9fb2-e69e7ca9d8ea",
   "metadata": {},
   "outputs": [
    {
     "name": "stdout",
     "output_type": "stream",
     "text": [
      "45\n",
      "<class 'int'>\n",
      "14.5\n",
      "<class 'float'>\n",
      "c\n",
      "<class 'str'>\n",
      "Kunj\n",
      "<class 'str'>\n",
      "(10+16j)\n",
      "<class 'complex'>\n",
      "True\n",
      "<class 'bool'>\n",
      "False\n",
      "<class 'bool'>\n",
      "[120, 12.18, 'Nevil']\n",
      "<class 'list'>\n",
      "(10, 'Rohit')\n",
      "<class 'tuple'>\n"
     ]
    }
   ],
   "source": [
    "\"\"\"\n",
    "Q4. Create a list of length 10 of your choice containing multiple types of data. Using for loop print the\n",
    "element and its data type.\n",
    "\n",
    "Ans :-\n",
    "\"\"\"\n",
    "List = [ 45, 14.5, 'c', \"Kunj\", 10 + 16j, True, False, [ 120, 12.18, 'Nevil'], ( 10, \"Rohit\") ]\n",
    "for i in List :\n",
    "        print (i)\n",
    "        print (type(i))"
   ]
  },
  {
   "cell_type": "code",
   "execution_count": 3,
   "id": "32e3f841-f50c-4797-b83b-85570c578993",
   "metadata": {},
   "outputs": [
    {
     "name": "stdin",
     "output_type": "stream",
     "text": [
      "Enter A :-  64\n",
      "Enter B :-  2\n"
     ]
    },
    {
     "name": "stdout",
     "output_type": "stream",
     "text": [
      "6\n"
     ]
    }
   ],
   "source": [
    "\"\"\"\n",
    "Q5. Using a while loop, verify if the number A is purely divisible by number B and if so then how many\n",
    "times it can be divisible.\n",
    "\n",
    "Ans :-\n",
    "\"\"\"\n",
    "\n",
    "a = int(input(\"Enter A :- \"))\n",
    "b = int(input(\"Enter B :- \"))\n",
    "count =0\n",
    "\n",
    "while (1) :\n",
    "    Ans = a / b\n",
    "    if ( a % b == 0) :\n",
    "        count += 1\n",
    "    else :\n",
    "        break \n",
    "    a =Ans\n",
    "print(count)"
   ]
  },
  {
   "cell_type": "code",
   "execution_count": 4,
   "id": "9faf1551-7451-4601-bd7e-f5e1a280dfe0",
   "metadata": {},
   "outputs": [
    {
     "name": "stdout",
     "output_type": "stream",
     "text": [
      " 15  is divisible by 3\n",
      " 25  is not divisible by 3\n",
      " 36  is divisible by 3\n",
      " 65  is not divisible by 3\n",
      " 12  is divisible by 3\n",
      " 656  is not divisible by 3\n",
      " 78  is divisible by 3\n",
      " 12  is divisible by 3\n",
      " 30  is divisible by 3\n",
      " 47  is not divisible by 3\n",
      " 89  is not divisible by 3\n",
      " 123  is divisible by 3\n",
      " 45  is divisible by 3\n",
      " 78  is divisible by 3\n",
      " 46  is not divisible by 3\n",
      " 96  is divisible by 3\n",
      " 1465  is not divisible by 3\n",
      " 7895  is not divisible by 3\n",
      " 655  is not divisible by 3\n",
      " 321  is divisible by 3\n",
      " 5698  is not divisible by 3\n",
      " 120  is divisible by 3\n",
      " 360  is divisible by 3\n",
      " 650  is not divisible by 3\n",
      " 299  is not divisible by 3\n"
     ]
    }
   ],
   "source": [
    "\"\"\"\n",
    "Q6. Create a list containing 25 int type data. Using for loop and if-else condition print if the element is\n",
    "divisible by 3 or not.\n",
    "\n",
    "Ans :-\n",
    "\"\"\"\n",
    "\n",
    "list = [15,25,36,65,12,656,78,12,30,47,89,123,45,78,46,96,1465,7895,655,321,5698,120,360,650,299]\n",
    "\n",
    "for i in list :\n",
    "    if(i%3==0) :\n",
    "        print(\"\",i,\" is divisible by 3\")\n",
    "    else :\n",
    "        print(\"\",i,\" is not divisible by 3\")"
   ]
  },
  {
   "cell_type": "code",
   "execution_count": null,
   "id": "68adbda5-4fda-4a0e-aa54-ed839646e5b5",
   "metadata": {},
   "outputs": [],
   "source": [
    "\"\"\"\n",
    "Q7. What do you understand about mutable and immutable data types? Give examples for both showing\n",
    "this property. \n",
    "\n",
    "Ans :-\n",
    "\n",
    "Mutable Data Types :- it is that data type in which we can changed their index element. OR mutable can be modified after its creation. \n",
    "                      Example :- List\n",
    "Immutable Data Types :- it is that data type in which we can not changed their index element. OR immutable can not be modified.\n",
    "                        after its creation. \n",
    "                        Examples :- String , Tuples\n",
    "                \n",
    "\"\"\""
   ]
  }
 ],
 "metadata": {
  "kernelspec": {
   "display_name": "Python 3 (ipykernel)",
   "language": "python",
   "name": "python3"
  },
  "language_info": {
   "codemirror_mode": {
    "name": "ipython",
    "version": 3
   },
   "file_extension": ".py",
   "mimetype": "text/x-python",
   "name": "python",
   "nbconvert_exporter": "python",
   "pygments_lexer": "ipython3",
   "version": "3.10.8"
  }
 },
 "nbformat": 4,
 "nbformat_minor": 5
}
